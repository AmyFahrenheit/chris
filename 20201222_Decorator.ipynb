{
 "cells": [
  {
   "cell_type": "markdown",
   "metadata": {
    "collapsed": true,
    "pycharm": {
     "name": "#%% md\n"
    }
   },
   "source": [
    "### 2020-12-22 Tuesday\n",
    "### 装饰器的作用是在不改变被装饰函数（以下用f指代）的代码，\n",
    "### 以及调用f的代码的情况下，给f添加额外的功能。\n",
    "### 首先定义一个“待装饰”的简单函数。如下："
   ]
  },
  {
   "cell_type": "code",
   "execution_count": 27,
   "outputs": [
    {
     "name": "stdout",
     "output_type": "stream",
     "text": [
      "I'm the first function to be decorated.\r\n",
      "I sum up all numeric arguments passed and return 6.\n"
     ]
    }
   ],
   "source": [
    "def myfunc_sum(*nums):\n",
    "    print(\"I'm the first function to be decorated.\\r\")\n",
    "    val_sum = sum(nums)\n",
    "    print(f\"I sum up all numeric arguments passed and return {val_sum}.\")\n",
    "myfunc_sum(1,2,3)"
   ],
   "metadata": {
    "collapsed": false,
    "pycharm": {
     "name": "#%%\n"
    }
   }
  },
  {
   "cell_type": "markdown",
   "source": [
    "### 现在想要了解上面的这个函数运行时耗时多少；当然可以直接改写这个函数的定义，把计时部分加进去，如下："
   ],
   "metadata": {
    "collapsed": false,
    "pycharm": {
     "name": "#%% md\n"
    }
   }
  },
  {
   "cell_type": "code",
   "execution_count": 23,
   "outputs": [
    {
     "name": "stdout",
     "output_type": "stream",
     "text": [
      "I'm the first function to be decorated.\r\n",
      "I sum up all numeric arguments passed and return 10.\n",
      "Time elapsed: 0.00027179718017578125 seconds.\n"
     ]
    }
   ],
   "source": [
    "import time\n",
    "def myfunc_sum_timeit(*nums):\n",
    "    time_start = time.time()\n",
    "    print(\"I'm the first function to be decorated.\\r\")\n",
    "    val_sum = sum(nums)\n",
    "    print(f\"I sum up all numeric arguments passed and return {val_sum}.\")\n",
    "    time_end = time.time()\n",
    "    print(f\"Time elapsed: {time_end - time_start} seconds.\")\n",
    "#myfunc_sum_timeit(1,2,3,4)"
   ],
   "metadata": {
    "collapsed": false,
    "pycharm": {
     "name": "#%%\n"
    }
   }
  },
  {
   "cell_type": "markdown",
   "source": [
    "### 这样确实可以，但需要修改函数定义本身，非常麻烦。\n",
    "### 能想到的一个方法，就是定义另一个函数来定时，其中调用上述我们感兴趣的函数。如下："
   ],
   "metadata": {
    "collapsed": false,
    "pycharm": {
     "name": "#%% md\n"
    }
   }
  },
  {
   "cell_type": "code",
   "execution_count": 28,
   "outputs": [
    {
     "name": "stdout",
     "output_type": "stream",
     "text": [
      "I'm the first function to be decorated.\r\n",
      "I sum up all numeric arguments passed and return 15.\n",
      "Time elapsed: 0.00044274330139160156 seconds.\n"
     ]
    }
   ],
   "source": [
    "def timeit(func, *nums):\n",
    "    time_start = time.time()\n",
    "    func(*nums)\n",
    "    time_end = time.time()\n",
    "    print(f\"Time elapsed: {time_end - time_start} seconds.\")\n",
    "timeit(myfunc_sum, 1,2,3,4,5)"
   ],
   "metadata": {
    "collapsed": false,
    "pycharm": {
     "name": "#%%\n"
    }
   }
  },
  {
   "cell_type": "markdown",
   "source": [
    "### 上述做法达到了”不改动被调用函数本身“的目的，但调用部分的代码变了；\n",
    "### 从原来的\"myfunc_sum(*nums)\"变成了\"timeit(myfunc_sum, *nums)\"。\n",
    "### 这样，在调用处就要逐一修改，麻烦且易有遗漏。\n",
    "\n",
    "### 能否既不改动被调用函数本身，又不改动调用代码？\n",
    "### 以本案为例，很自然的思路是将timeit赋值给myfunc_sum，\n",
    "### 然后直接调用新的myfunc_sum, 即原来的myfunc_sum与外部计时部分的组合:"
   ],
   "metadata": {
    "collapsed": false,
    "pycharm": {
     "name": "#%% md\n"
    }
   }
  },
  {
   "cell_type": "code",
   "execution_count": 29,
   "outputs": [
    {
     "ename": "TypeError",
     "evalue": "'int' object is not callable",
     "output_type": "error",
     "traceback": [
      "\u001B[0;31m---------------------------------------\u001B[0m",
      "\u001B[0;31mTypeError\u001B[0mTraceback (most recent call last)",
      "\u001B[0;32m<ipython-input-29-a79ea4e6da8e>\u001B[0m in \u001B[0;36m<module>\u001B[0;34m\u001B[0m\n\u001B[1;32m      1\u001B[0m \u001B[0mmyfunc_sum\u001B[0m \u001B[0;34m=\u001B[0m \u001B[0mtimeit\u001B[0m\u001B[0;34m\u001B[0m\u001B[0;34m\u001B[0m\u001B[0m\n\u001B[0;32m----> 2\u001B[0;31m \u001B[0mmyfunc_sum\u001B[0m\u001B[0;34m(\u001B[0m\u001B[0;36m1\u001B[0m\u001B[0;34m,\u001B[0m\u001B[0;36m2\u001B[0m\u001B[0;34m,\u001B[0m\u001B[0;36m3\u001B[0m\u001B[0;34m)\u001B[0m\u001B[0;34m\u001B[0m\u001B[0;34m\u001B[0m\u001B[0m\n\u001B[0m",
      "\u001B[0;32m<ipython-input-28-821766e2faf9>\u001B[0m in \u001B[0;36mtimeit\u001B[0;34m(func, *nums)\u001B[0m\n\u001B[1;32m      1\u001B[0m \u001B[0;32mdef\u001B[0m \u001B[0mtimeit\u001B[0m\u001B[0;34m(\u001B[0m\u001B[0mfunc\u001B[0m\u001B[0;34m,\u001B[0m \u001B[0;34m*\u001B[0m\u001B[0mnums\u001B[0m\u001B[0;34m)\u001B[0m\u001B[0;34m:\u001B[0m\u001B[0;34m\u001B[0m\u001B[0;34m\u001B[0m\u001B[0m\n\u001B[1;32m      2\u001B[0m     \u001B[0mtime_start\u001B[0m \u001B[0;34m=\u001B[0m \u001B[0mtime\u001B[0m\u001B[0;34m.\u001B[0m\u001B[0mtime\u001B[0m\u001B[0;34m(\u001B[0m\u001B[0;34m)\u001B[0m\u001B[0;34m\u001B[0m\u001B[0;34m\u001B[0m\u001B[0m\n\u001B[0;32m----> 3\u001B[0;31m     \u001B[0mfunc\u001B[0m\u001B[0;34m(\u001B[0m\u001B[0;34m*\u001B[0m\u001B[0mnums\u001B[0m\u001B[0;34m)\u001B[0m\u001B[0;34m\u001B[0m\u001B[0;34m\u001B[0m\u001B[0m\n\u001B[0m\u001B[1;32m      4\u001B[0m     \u001B[0mtime_end\u001B[0m \u001B[0;34m=\u001B[0m \u001B[0mtime\u001B[0m\u001B[0;34m.\u001B[0m\u001B[0mtime\u001B[0m\u001B[0;34m(\u001B[0m\u001B[0;34m)\u001B[0m\u001B[0;34m\u001B[0m\u001B[0;34m\u001B[0m\u001B[0m\n\u001B[1;32m      5\u001B[0m     \u001B[0mprint\u001B[0m\u001B[0;34m(\u001B[0m\u001B[0;34mf\"Time elapsed: {time_end - time_start} seconds.\"\u001B[0m\u001B[0;34m)\u001B[0m\u001B[0;34m\u001B[0m\u001B[0;34m\u001B[0m\u001B[0m\n",
      "\u001B[0;31mTypeError\u001B[0m: 'int' object is not callable"
     ]
    }
   ],
   "source": [
    "myfunc_sum = timeit\n",
    "myfunc_sum(1,2,3)"
   ],
   "metadata": {
    "collapsed": false,
    "pycharm": {
     "name": "#%%\n"
    }
   }
  },
  {
   "cell_type": "markdown",
   "source": [
    "### 上述方法报错：\n",
    "### \"TypeError: 'int' object is not callable\"\n",
    "### 也就是说，现在myfunc_sum已经不是初始定义的那个函数myfunc_sum了；\n",
    "### 它现在与timeit函数完全等价。\n",
    "### 那么，现在调用myfunc_sum(*sum)时，其实就是在调用timeit(*sum);\n",
    "### 但timeit的第一个参数应该是一个函数，这里没有；所以抛出上述错误。\n",
    "\n",
    "### 针对这一点，可以考虑在timeit里再定义一个函数，这个新函数有如下的特点：\n",
    "#### 1. “封装”了原timeit中计时和调用myfunc_sum函数的两部分；\n",
    "#### 2. 与myfunc_sum的参数完全一致。\n",
    "### 然后返回这个新函数。\n",
    "### 这样，调用timeit(myfunc_sum)并赋值给原myfunc_sum后，myfunc_sum就与这个被返回的函数完全等价了；\n",
    "### 再调用新的myfunc_sum，就达到了既不更改myfunc_sum本身的代码，也不更改调用代码的目的。如下：\n"
   ],
   "metadata": {
    "collapsed": false,
    "pycharm": {
     "name": "#%% md\n"
    }
   }
  },
  {
   "cell_type": "code",
   "execution_count": 32,
   "outputs": [
    {
     "name": "stdout",
     "output_type": "stream",
     "text": [
      "I'm the first function to be decorated.\r\n",
      "I sum up all numeric arguments passed and return 10.\n",
      "Time elapsed: 0.0007176399230957031 seconds.\n"
     ]
    }
   ],
   "source": [
    "def myfunc_sum_new(*nums):\n",
    "    '''\n",
    "    Defining the function to be decorated,\n",
    "    with arguments of variable numbers.\n",
    "    '''\n",
    "    print(\"I'm the first function to be decorated.\\r\")\n",
    "    val_sum = sum(nums)\n",
    "    print(f\"I sum up all numeric arguments passed and return {val_sum}.\")\n",
    "#myfunc_sum_new(1,2,3,4,5)\n",
    "\n",
    "def timeit_new(func):\n",
    "    def wrapper(*nums):\n",
    "        time_start = time.time()\n",
    "        func(*nums)\n",
    "        time_end = time.time()\n",
    "        print(f\"Time elapsed: {time_end - time_start} seconds.\")\n",
    "    return wrapper\n",
    "\n",
    "myfunc_sum_new = timeit_new(myfunc_sum_new)\n",
    "myfunc_sum_new(1,2,3,4)"
   ],
   "metadata": {
    "collapsed": false,
    "pycharm": {
     "name": "#%%\n"
    }
   }
  },
  {
   "cell_type": "markdown",
   "source": [
    "### 由以上代码的实现结果可见，myfunc_sum_new在经过timeit_new“处理”后，\n",
    "### 达到了在没有改动原函数定义代码和调用代码的情况下，添加了额外功能的目的。\n",
    "\n",
    "### 在Python中，有一种更“高端”的写法，也就是所谓的语法糖。\n",
    "### 具体实施方法为：先定义装饰器函数，然后@该函数，在@语句下方定义需要装饰的函数；\n",
    "### 最后直接调用被装饰的函数即可。如下："
   ],
   "metadata": {
    "collapsed": false,
    "pycharm": {
     "name": "#%% md\n"
    }
   }
  },
  {
   "cell_type": "code",
   "execution_count": 34,
   "outputs": [
    {
     "name": "stdout",
     "output_type": "stream",
     "text": [
      "I'm the first function to be decorated.\r\n",
      "I sum up all numeric arguments passed and return 21.\n",
      "Time elapsed: 0.0006966590881347656 seconds.\n"
     ]
    }
   ],
   "source": [
    "def timeit_dec(func):\n",
    "    def wrapper(*nums):\n",
    "        time_start = time.time()\n",
    "        func(*nums)\n",
    "        time_end = time.time()\n",
    "        print(f\"Time elapsed: {time_end - time_start} seconds.\")\n",
    "    return wrapper\n",
    "\n",
    "@timeit_dec\n",
    "def myfunc_sum_dec(*nums):\n",
    "    print(\"I'm the first function to be decorated.\\r\")\n",
    "    val_sum = sum(nums)\n",
    "    print(f\"I sum up all numeric arguments passed and return {val_sum}.\")\n",
    "\n",
    "myfunc_sum_dec(1,2,3,4,5,6)"
   ],
   "metadata": {
    "collapsed": false,
    "pycharm": {
     "name": "#%%\n"
    }
   }
  },
  {
   "cell_type": "markdown",
   "source": [
    "### 2020-12-23 Wednesday\n",
    "### 由以上结果可见，用简洁的“语法糖”实现了我们所需要的结果。\n",
    "### 下面再举一个简单的实例，即“计算结果加密”；显示一下如何正确装饰有返回值的函数。"
   ],
   "metadata": {
    "collapsed": false,
    "pycharm": {
     "name": "#%% md\n"
    }
   }
  },
  {
   "cell_type": "code",
   "execution_count": 40,
   "outputs": [
    {
     "name": "stdout",
     "output_type": "stream",
     "text": [
      "I'm the second function to be decorated.\n",
      "My returned value is to be encrypted.\n",
      "\n",
      "My ENCRYPTED returned value is 4.5.\n"
     ]
    }
   ],
   "source": [
    "def encryption_dec(func):\n",
    "    c = 150\n",
    "    d = 200\n",
    "    def wrapper(*nums):\n",
    "        val_func = func(*nums)\n",
    "        val_encrypted = val_func*c/d\n",
    "        '''\n",
    "        str_returned = \"My ENCRYPTED returned value is %.2f.\"%(val_encrypted)\n",
    "        return str_returned\n",
    "        '''\n",
    "        print(f\"My ENCRYPTED returned value is {val_encrypted}.\")\n",
    "    return wrapper\n",
    "\n",
    "@encryption_dec\n",
    "def myfunc_sum_return(*nums):\n",
    "    print(\"I'm the second function to be decorated.\\n\"\n",
    "          \"My returned value is to be encrypted.\\n\")\n",
    "    val_sum = sum(nums)\n",
    "    return val_sum\n",
    "\n",
    "#print(myfunc_sum_return(1,2,3))\n",
    "myfunc_sum_return(1,2,3)"
   ],
   "metadata": {
    "collapsed": false,
    "pycharm": {
     "name": "#%%\n"
    }
   }
  },
  {
   "cell_type": "markdown",
   "source": [
    "### 简单计算一下，若输入的不定参数为（1，2，3），则相加和为6，“加密”（乘以150，再除以200）后的结果为4.5. 结果正确。\n",
    "### 值得注意的是，“Python高级编程——装饰器Decorator超详细讲解(中篇)”一篇中这里讲得有不严谨之处。\n",
    "### 事实上，待装饰函数有返回值时，wrapper函数完全可以没有返回值；只要正确处理了待装饰函数的返回值即可。如上所示。\n",
    "\n",
    "### 以上即为用函数装饰器装饰函数的介绍。总结一下，即定义一个装饰器外层，把待装饰的函数设为待传入的参数。\n",
    "### 内层的wrapper为实际“接收”该函数并进行对其进行“装饰”的“处理器”。需要注意的是，wrapper的参数列表要与待装饰的函数一致，否则后续传参时会发生错误。\n",
    "\n",
    "### Python中“一切皆对象”；因此，类也可以作为参数传入函数。利用这一性质，可定义用于“装饰”类的函数。\n",
    "### 下面是关于用函数装饰器装饰类的介绍。\n",
    "\n",
    "### 在软件设计模式中，有一种类的“单例模式”，即保证该类只有一个实例存在\n",
    "### （普通类每次实例化，各个实例都是不同的对象，在内存中的地址也不同，可以用id()函数查看；单例模式下，无论多少次实例化，各个实例都是同一个，占据同一个内存地址）。\n",
    "### 单例模式可以在类的定义中实现；但如果有已经定义了的类，不想/不能改变定义语句而又想额外添加单例模式限制，也可用很简单的函数装饰器加以实现。如下："
   ],
   "metadata": {
    "collapsed": false,
    "pycharm": {
     "name": "#%% md\n"
    }
   }
  },
  {
   "cell_type": "code",
   "execution_count": 75,
   "outputs": [
    {
     "name": "stdout",
     "output_type": "stream",
     "text": [
      "Name: Kevin\n",
      "Gender: male\n",
      "Age: 33\n",
      "\n",
      "True\n",
      "True\n"
     ]
    }
   ],
   "source": [
    "def singleton_dec(cls):\n",
    "    instance = {}\n",
    "    def wrapper(*args, **kwargs):\n",
    "        if cls not in instance:\n",
    "            instance[cls] = cls(*args, **kwargs)\n",
    "        return instance[cls]\n",
    "    return wrapper\n",
    "\n",
    "@singleton_dec\n",
    "class studentInfo:\n",
    "    def __init__(self,name,gender,age):\n",
    "        self.name = name\n",
    "        self.gender = gender\n",
    "        self.age = age\n",
    "\n",
    "    def print_info(self):\n",
    "        print(f\"Name: {self.name}\\nGender: {self.gender}\\nAge: {self.age}\\n\")\n",
    "\n",
    "student_1 = studentInfo(\"Kevin\",\"male\",33)\n",
    "student_2 = studentInfo(\"Vincent\",\"male\",38)\n",
    "\n",
    "student_2.print_info()\n",
    "print(student_1 == student_2)\n",
    "print(id(student_1)==id(student_2))"
   ],
   "metadata": {
    "collapsed": false,
    "pycharm": {
     "name": "#%%\n"
    }
   }
  },
  {
   "cell_type": "markdown",
   "source": [
    "### 由以上结果可见，在用“单例化”函数修饰器对“学生信息”类添加单例限制后，该类只能实例化一次；\n",
    "### 再次实例化并引入新的初始化函数参数，并不会对第一次生成的实例产生影响。两者的内存地址也完全一致。\n",
    "### 若将语法糖注释掉，再运行一遍上面的cell，“学生信息”就是普通的类了；多次实例化会生成各不相同，内存地址也不同的多个对象。\n",
    "### 由此也可见装饰器（语法糖）的便利；不需要添加的额外功能时，将@语句注释掉，然后重新运行即可，而不需修改其他任何语句。\n",
    "\n",
    "### 下面再举一个例子，如何用函数装饰器给类添加新的属性。如下："
   ],
   "metadata": {
    "collapsed": false,
    "pycharm": {
     "name": "#%% md\n"
    }
   }
  },
  {
   "cell_type": "code",
   "execution_count": 76,
   "outputs": [
    {
     "name": "stdout",
     "output_type": "stream",
     "text": [
      "{'name': 'Maria', 'gender': 'female', 'age': 33, 'height_cm': 172, 'weight_kg': 70}\n",
      "\n",
      "\n",
      "{'name': 'Lotus', 'gender': 'female', 'age': 33, 'height_cm': 163, 'weight_kg': 65}\n"
     ]
    }
   ],
   "source": [
    "def addattr_dec(cls):\n",
    "    height_cm = 172\n",
    "    weight_kg = 70\n",
    "    def wrapper(*args,**kwargs):\n",
    "        obj_new = cls(*args, **kwargs)\n",
    "        obj_new.height_cm = height_cm\n",
    "        obj_new.weight_kg = weight_kg\n",
    "        return obj_new\n",
    "    return wrapper\n",
    "\n",
    "@addattr_dec\n",
    "class studentInfo_2:\n",
    "    def __init__(self,name,gender,age):\n",
    "        self.name = name\n",
    "        self.gender = gender\n",
    "        self.age = age\n",
    "\n",
    "student_3 = studentInfo_2(\"Maria\",\"female\",33)\n",
    "student_4 = studentInfo_2(\"Lotus\",\"female\",33)\n",
    "student_4.height_cm = 163\n",
    "student_4.weight_kg = 65\n",
    "print(student_3.__dict__)\n",
    "print(\"\\n\")\n",
    "print(student_4.__dict__)\n",
    "#type(student_4)"
   ],
   "metadata": {
    "collapsed": false,
    "pycharm": {
     "name": "#%%\n"
    }
   }
  },
  {
   "cell_type": "markdown",
   "source": [
    "### 通过函数装饰器，给类studentInfo_2添加了除该类本身定义的名字、性别和年龄三个属性之外的身高、体重两个新属性。\n",
    "### 函数装饰器的简介先讲到这里。下面来看一下类装饰器。类装饰器同样既可以装饰函数，也可以装饰类。先看第一种情况。\n",
    "### 用类装饰器装饰函数时，先定义该类并将待装饰函数作为参数传入初始化方法，初始化为该类的属性。\n",
    "### 然后，定义__call__魔法方法（该方法的作用是使得实例化的类能像函数一样直接调用），在该方法中书写添加功能的语句并调用待修饰函数即可。如下：\n",
    "### （注意，这里的魔法方法参数要与待装饰函数统一。不再赘述）"
   ],
   "metadata": {
    "collapsed": false,
    "pycharm": {
     "name": "#%% md\n"
    }
   }
  },
  {
   "cell_type": "code",
   "execution_count": 50,
   "outputs": [
    {
     "name": "stdout",
     "output_type": "stream",
     "text": [
      "Starting...\n",
      "I'm the first function to be decorated by a class decorator.\n",
      "The End.\n"
     ]
    }
   ],
   "source": [
    "class funcDecorator:\n",
    "    def __init__(self,func):\n",
    "        self.func = func\n",
    "    def __call__(self):\n",
    "        print(\"Starting...\")\n",
    "        time.sleep(2)\n",
    "        self.func()\n",
    "        time.sleep(2)\n",
    "        print(\"The End.\")\n",
    "\n",
    "@funcDecorator\n",
    "def myfunc_class():\n",
    "    print(\"I'm the first function to be decorated by a class decorator.\")\n",
    "\n",
    "myfunc_class()"
   ],
   "metadata": {
    "collapsed": false,
    "pycharm": {
     "name": "#%%\n"
    }
   }
  },
  {
   "cell_type": "markdown",
   "source": [
    "### 这里，语法糖起到的作用等价于myfunc_class = funcDecorator(myfunc_class);\n",
    "### 也就是说，最后实际被调用执行的，并不是函数myfunc_class(), 而是实例化的类funcDecorator(myfunc_class).\n",
    "### 魔法方法__call__则使得该实例对象像函数一样被调用。\n",
    "\n",
    "### 下面再举一个用类装饰器装饰函数的例子。仍以上述的装饰器对计算结果加密为例。如下："
   ],
   "metadata": {
    "collapsed": false,
    "pycharm": {
     "name": "#%% md\n"
    }
   }
  },
  {
   "cell_type": "code",
   "execution_count": 54,
   "outputs": [
    {
     "name": "stdout",
     "output_type": "stream",
     "text": [
      "I'm the second function to be decorated by a class decorator.\n",
      "\n",
      "Below is the encrypted result of myfunc_class2: 7.5.\n"
     ]
    }
   ],
   "source": [
    "class funcEncryption:\n",
    "    def __init__(self,func):\n",
    "        self.func = func\n",
    "        self.c = 150\n",
    "        self.d = 200\n",
    "    def __call__(self, *args, **kwargs):\n",
    "        val_func = self.func(*args, **kwargs)\n",
    "        val_encrypted = val_func*(self.c)/(self.d)\n",
    "        print(f\"Below is the encrypted result of {self.func.__name__}: {val_encrypted}.\")\n",
    "\n",
    "@funcEncryption\n",
    "def myfunc_class2(*nums):\n",
    "    print(\"I'm the second function to be decorated by a class decorator.\\n\")\n",
    "    val_sum = sum(nums)\n",
    "    return val_sum\n",
    "\n",
    "myfunc_class2(1,2,3,4)"
   ],
   "metadata": {
    "collapsed": false,
    "pycharm": {
     "name": "#%%\n"
    }
   }
  },
  {
   "cell_type": "markdown",
   "source": [
    "### 以上，完成了用类装饰器为函数计算结果加密的操作。可见，类装饰器的初始化方法就相当于函数装饰器的外层，\n",
    "### 用于传入待装饰的函数，以及定义一些后续操作需要使用的属性。\n",
    "### __call__魔法方法则相当于函数装饰器内层的wrapper, 用于定义所需添加的功能。\n",
    "\n",
    "### 下面还有四种排列组合的最后一种，即用类装饰器来装饰类。仍以为学生信息类添加额外属性为例，如下："
   ],
   "metadata": {
    "collapsed": false,
    "pycharm": {
     "name": "#%% md\n"
    }
   }
  },
  {
   "cell_type": "code",
   "execution_count": 77,
   "outputs": [
    {
     "name": "stdout",
     "output_type": "stream",
     "text": [
      "Below are the attributes of the newly decorated object:\n",
      "\n",
      "{'name': 'Jokky', 'gender': 'male', 'age': 24, 'height_cm': 165, 'weight_kg': 60}\n"
     ]
    },
    {
     "data": {
      "text/plain": "__main__.studentInfo_3"
     },
     "execution_count": 77,
     "metadata": {},
     "output_type": "execute_result"
    }
   ],
   "source": [
    "class classDecorator:\n",
    "    def __init__(self,cls):\n",
    "        self.cls = cls\n",
    "        self.height_cm = 165\n",
    "        self.weight_kg = 60\n",
    "    def __call__(self, *args, **kwargs):\n",
    "        object_new = self.cls(*args, **kwargs)\n",
    "        object_new.height_cm = self.height_cm\n",
    "        object_new.weight_kg = self.weight_kg\n",
    "        print(f\"Below are the attributes of the newly decorated object:\\n\")\n",
    "        print(object_new.__dict__)\n",
    "        return object_new\n",
    "\n",
    "@classDecorator\n",
    "class studentInfo_3:\n",
    "    def __init__(self,name,gender,age):\n",
    "        self.name = name\n",
    "        self.gender = gender\n",
    "        self.age = age\n",
    "    def __call__(self):\n",
    "        pass\n",
    "\n",
    "student_5 = studentInfo_3(\"Jokky\",\"male\",24)\n",
    "student_5()\n",
    "type(student_5)"
   ],
   "metadata": {
    "collapsed": false,
    "pycharm": {
     "name": "#%%\n"
    }
   }
  },
  {
   "cell_type": "markdown",
   "source": [
    "### 可见类装饰器装饰类的代码与装饰函数的代码有相似之处，只是把初始化方法中传入的待装饰参数换成了待装饰的类。\n",
    "### 下面来实现一下Jokky兄弟的新要求：写出带参数的装饰器，根据当日的日期给出节日祝福（如果当天是节日的话）。\n",
    "### 以函数装饰器加密函数运算结果为例，向装饰器中传递日期（字符串）为参数，在结果后打印出节日祝福。\n",
    "### 正好今天是平安夜（先设定这么几个节日吧：新年，复活节，独立日，感恩节，平安夜，圣诞节。先这样。）\n",
    "#### 注意：复活节和感恩节其实没有固定的日期，因为是根据星期来算的。我懒，这里就分别设为4月4日和11月27日。"
   ],
   "metadata": {
    "collapsed": false,
    "pycharm": {
     "name": "#%% md\n"
    }
   }
  },
  {
   "cell_type": "code",
   "execution_count": 7,
   "outputs": [
    {
     "name": "stdout",
     "output_type": "stream",
     "text": [
      "I'm the second function to be decorated.\n",
      "My returned value is to be encrypted.\n",
      "\n",
      "My ENCRYPTED returned value is 7.5.\n",
      "Merry Christmas Eve!\n"
     ]
    }
   ],
   "source": [
    "import datetime\n",
    "def encryption_greetings(date):\n",
    "    dict_vacations = {\"01-01\": \"Happy New Year!\",\n",
    "                      \"04-04\": \"Happy Easter!\",\n",
    "                      \"07-04\": \"Enjoy the Day of Independence!\",\n",
    "                      \"11-27\": \"Happy Thanksgiving!\",\n",
    "                      \"12-24\": \"Merry Christmas Eve!\",\n",
    "                      \"12-25\": \"Merry Christmas!\"}\n",
    "    def encryption_dec(func):\n",
    "        c = 150\n",
    "        d = 200\n",
    "        def wrapper(*nums):\n",
    "            val_func = func(*nums)\n",
    "            val_encrypted = val_func*c/d\n",
    "            '''\n",
    "            str_returned = \"My ENCRYPTED returned value is %.2f.\"%(val_encrypted)\n",
    "            return str_returned\n",
    "            '''\n",
    "            print(f\"My ENCRYPTED returned value is {val_encrypted}.\")\n",
    "            if date in dict_vacations:\n",
    "                print(dict_vacations[date])\n",
    "        return wrapper\n",
    "    return encryption_dec\n",
    "\n",
    "date_today_formatted = datetime.date.today().strftime(\"%m-%d\")\n",
    "@encryption_greetings(date_today_formatted)\n",
    "def myfunc_sum_return(*nums):\n",
    "    print(\"I'm the second function to be decorated.\\n\"\n",
    "          \"My returned value is to be encrypted.\\n\")\n",
    "    val_sum = sum(nums)\n",
    "    return val_sum\n",
    "\n",
    "myfunc_sum_return(1,2,3,4)"
   ],
   "metadata": {
    "collapsed": false,
    "pycharm": {
     "name": "#%%\n"
    }
   }
  },
  {
   "cell_type": "code",
   "execution_count": null,
   "outputs": [],
   "source": [
    "\n"
   ],
   "metadata": {
    "collapsed": false,
    "pycharm": {
     "name": "#%%\n"
    }
   }
  }
 ],
 "metadata": {
  "kernelspec": {
   "display_name": "Python 3",
   "language": "python",
   "name": "python3"
  },
  "language_info": {
   "codemirror_mode": {
    "name": "ipython",
    "version": 2
   },
   "file_extension": ".py",
   "mimetype": "text/x-python",
   "name": "python",
   "nbconvert_exporter": "python",
   "pygments_lexer": "ipython2",
   "version": "2.7.6"
  }
 },
 "nbformat": 4,
 "nbformat_minor": 0
}