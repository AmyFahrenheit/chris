{
 "cells": [
  {
   "cell_type": "code",
   "execution_count": 64,
   "metadata": {
    "collapsed": true
   },
   "outputs": [],
   "source": [
    "import numpy as np\n",
    "# 齐次：\n",
    "def solving_homo(A):\n",
    "    n = A.shape[0]\n",
    "    r = np.linalg.matrix_rank(A)\n",
    "    if r == n: # 满秩，直接返回零向量\n",
    "        return np.zeros((n,1))\n",
    "    return(\"There are non-zero solutions for this set of formulae.\\nTO BE CONTINUED......\")\n",
    "\n",
    "# 非齐次：\n",
    "def solving_nonhomo(A,c):\n",
    "    n = A.shape[0]\n",
    "    r = np.linalg.matrix_rank(A)\n",
    "    if r==n: # 满秩，有惟一解\n",
    "        list_x = []\n",
    "        det_A = np.linalg.det(A)\n",
    "        for i in range(n):\n",
    "            A_T = A.copy().T\n",
    "            c_T = c.T\n",
    "            A_T[i] = c_T\n",
    "            det_A_i = np.linalg.det(A_T)\n",
    "            list_x.append(det_A_i/det_A)\n",
    "        return np.array([list_x]).T\n",
    "    A_T = A.copy().T\n",
    "    c_T = c.T\n",
    "    A_T = np.row_stack((A_T,c_T))\n",
    "    r_expanded = np.linalg.matrix_rank(A_T)\n",
    "    if r==r_expanded:\n",
    "        return(\"There are infinite sets of non-zero solutions for this set of formulae.\\nTO BE CONTINUED......\")\n",
    "    return (\"There is no solution for this set of formulae.\")"
   ]
  },
  {
   "cell_type": "code",
   "execution_count": 65,
   "outputs": [],
   "source": [
    "# 判断是否齐次：\n",
    "def homo_or_not(c):\n",
    "    homo = True\n",
    "    list_c = list(c.copy().T[0])\n",
    "    for c in list_c:\n",
    "        if c != 0:\n",
    "            homo = False\n",
    "            break\n",
    "    return homo"
   ],
   "metadata": {
    "collapsed": false,
    "pycharm": {
     "name": "#%%\n"
    }
   }
  },
  {
   "cell_type": "code",
   "execution_count": 66,
   "outputs": [],
   "source": [
    "# 解方程组：\n",
    "def solving_formulae(A,c):\n",
    "    if homo_or_not(c):\n",
    "        print(solving_homo(A))\n",
    "    else:\n",
    "        print(solving_nonhomo(A,c))"
   ],
   "metadata": {
    "collapsed": false,
    "pycharm": {
     "name": "#%%\n"
    }
   }
  },
  {
   "cell_type": "code",
   "execution_count": 67,
   "outputs": [
    {
     "name": "stdout",
     "output_type": "stream",
     "text": [
      "[[0.]\n",
      " [0.]\n",
      " [0.]]\n"
     ]
    }
   ],
   "source": [
    "# 齐次，满秩：\n",
    "A_1 = np.array([[1,2,3],[2,5,2],[6,-3,1]])\n",
    "c_1 = np.array([[0],[0],[0]])\n",
    "#print(A_1.shape[0],np.linalg.matrix_rank(A_1))\n",
    "solving_formulae(A_1,c_1)"
   ],
   "metadata": {
    "collapsed": false,
    "pycharm": {
     "name": "#%%\n"
    }
   }
  },
  {
   "cell_type": "code",
   "execution_count": 68,
   "outputs": [
    {
     "name": "stdout",
     "output_type": "stream",
     "text": [
      "There are non-zero solutions for this set of formulae.\n",
      "TO BE CONTINUED......\n"
     ]
    }
   ],
   "source": [
    "# 齐次，非满秩：\n",
    "A_2 = np.array([[1,3,2],[2,2,2],[3,5,4]])\n",
    "c_2 = np.array([[0],[0],[0]])\n",
    "#print(A_2.shape[0],np.linalg.matrix_rank(A_2))\n",
    "solving_formulae(A_2,c_2)"
   ],
   "metadata": {
    "collapsed": false,
    "pycharm": {
     "name": "#%%\n"
    }
   }
  },
  {
   "cell_type": "code",
   "execution_count": 69,
   "outputs": [
    {
     "name": "stdout",
     "output_type": "stream",
     "text": [
      "[[-0.]\n",
      " [-0.]\n",
      " [ 2.]]\n"
     ]
    }
   ],
   "source": [
    "# 非齐次，满秩：\n",
    "A_3 = np.array([[1,2,3],[2,5,2],[6,-3,1]])\n",
    "c_3 = np.array([[6],[4],[2]])\n",
    "#print(A_3.shape[0],np.linalg.matrix_rank(A_3))\n",
    "solving_formulae(A_3,c_3)"
   ],
   "metadata": {
    "collapsed": false,
    "pycharm": {
     "name": "#%%\n"
    }
   }
  },
  {
   "cell_type": "code",
   "execution_count": 70,
   "outputs": [
    {
     "name": "stdout",
     "output_type": "stream",
     "text": [
      "There are infinite sets of non-zero solutions for this set of formulae.\n",
      "TO BE CONTINUED......\n"
     ]
    }
   ],
   "source": [
    "# 非齐次，非满秩，增广矩阵的秩不变：\n",
    "A_4 = np.array([[1,3,2],[2,2,2],[3,5,4]])\n",
    "c_4 = np.array([[-3],[-2],[-5]])\n",
    "#print(A_4.shape[0],np.linalg.matrix_rank(A_4))\n",
    "solving_formulae(A_4,c_4)"
   ],
   "metadata": {
    "collapsed": false,
    "pycharm": {
     "name": "#%%\n"
    }
   }
  },
  {
   "cell_type": "code",
   "execution_count": 71,
   "outputs": [
    {
     "name": "stdout",
     "output_type": "stream",
     "text": [
      "There is no solution for this set of formulae.\n"
     ]
    }
   ],
   "source": [
    "# 非齐次，非满秩，增广矩阵的秩增大：\n",
    "A_5 = np.array([[1,3,5],[1,2,-3],[2,5,2]])\n",
    "c_5 = np.array([[4],[5],[8]])\n",
    "#print(A_5.shape[0],np.linalg.matrix_rank(A_5))\n",
    "solving_formulae(A_5,c_5)\n"
   ],
   "metadata": {
    "collapsed": false,
    "pycharm": {
     "name": "#%%\n"
    }
   }
  },
  {
   "cell_type": "code",
   "execution_count": null,
   "outputs": [],
   "source": [
    "\n"
   ],
   "metadata": {
    "collapsed": false,
    "pycharm": {
     "name": "#%%\n"
    }
   }
  }
 ],
 "metadata": {
  "kernelspec": {
   "display_name": "Python 3",
   "language": "python",
   "name": "python3"
  },
  "language_info": {
   "codemirror_mode": {
    "name": "ipython",
    "version": 2
   },
   "file_extension": ".py",
   "mimetype": "text/x-python",
   "name": "python",
   "nbconvert_exporter": "python",
   "pygments_lexer": "ipython2",
   "version": "2.7.6"
  }
 },
 "nbformat": 4,
 "nbformat_minor": 0
}