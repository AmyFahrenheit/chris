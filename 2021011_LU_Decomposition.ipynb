{
 "cells": [
  {
   "cell_type": "code",
   "execution_count": 1,
   "outputs": [],
   "source": [
    "import numpy as np\n",
    "# LU Decomposition：\n",
    "def decmp_lu(A):\n",
    "    n = A.shape[1]\n",
    "    A_copy = A.copy()\n",
    "    inv_L = np.identity(n)\n",
    "    for i in range(0,n-1):\n",
    "        for j in range(i+1,n):\n",
    "            l_coef = A_copy[j][i] / A_copy[i][i]\n",
    "            A_copy[j] = A_copy[j] - l_coef*A_copy[i]\n",
    "            E_ji = np.identity(n)\n",
    "            E_ji[j][i] = -l_coef\n",
    "            inv_L = np.dot(E_ji, inv_L)\n",
    "    return inv_L, A_copy # A_copy is the U matrix."
   ],
   "metadata": {
    "collapsed": false,
    "pycharm": {
     "name": "#%%\n"
    }
   }
  },
  {
   "cell_type": "code",
   "execution_count": 2,
   "outputs": [],
   "source": [
    "def mask_zero(num): # num is the matrix to be masked:\n",
    "    if abs(num)<1e-5: #tolerance\n",
    "        return 0\n",
    "    return num"
   ],
   "metadata": {
    "collapsed": false,
    "pycharm": {
     "name": "#%%\n"
    }
   }
  },
  {
   "cell_type": "code",
   "execution_count": 3,
   "outputs": [
    {
     "name": "stdout",
     "output_type": "stream",
     "text": [
      "Below is the input 5*5 matrix A of Gaussian distribution with mean=0 and sd=5: \r\n",
      "[[ 2.48357077 -0.69132151  3.23844269  7.61514928 -1.17076687]\n",
      " [-1.17068478  7.89606408  3.83717365 -2.34737193  2.71280022]\n",
      " [-2.31708846 -2.32864877  1.20981136 -9.56640122 -8.62458916]\n",
      " [-2.81143765 -5.0641556   1.57123666 -4.54012038 -7.06151851]\n",
      " [ 7.32824384 -1.1288815   0.33764102 -7.12374093 -2.72191362]]\n",
      "\n",
      "\n",
      "Below is the inversed L after LU decomposistion:\r\n",
      "[[ 1.          0.          0.          0.          0.        ]\n",
      " [ 0.47137162  1.          0.          0.          0.        ]\n",
      " [ 1.11812482  0.39280741  1.          0.          0.        ]\n",
      " [-0.15865311  0.191017   -1.47991094  1.          0.        ]\n",
      " [-1.92133913  1.27834411 -4.54408049  4.12207635  1.        ]]\n",
      "\n",
      "\n",
      "Below is the U after LU decomposistion:\r\n",
      "[[ 2.48357077 -0.69132151  3.23844269  7.61514928 -1.17076687]\n",
      " [ 0.          7.57019474  5.36368364  1.24219335  2.16093394]\n",
      " [ 0.          0.          6.33806478 -1.97377886 -8.86804463]\n",
      " [ 0.          0.          0.          7.9607464   6.40604215]\n",
      " [ 0.          0.          0.          0.         13.0781277 ]]\n",
      "\n",
      "\n",
      "Below is the vector b on the right side of the equation:\r\n",
      "[[  2.77306474]\n",
      " [-28.77483944]\n",
      " [  9.39245046]\n",
      " [-15.01596725]\n",
      " [ -7.29234374]]\n"
     ]
    }
   ],
   "source": [
    "# Set a random A matrix and b vector, assuming that Ax = b,\n",
    "# and use three methods below to find out x:\n",
    "np.random.seed(42)\n",
    "A_decmp_test = 5*np.random.randn(5,5)\n",
    "b_decmp_test = 25*np.random.randn(5,1)\n",
    "print(\"Below is the input 5*5 matrix A of Gaussian distribution with mean=0 and sd=5: \\r\")\n",
    "print(A_decmp_test)\n",
    "vfunc_rnd = np.vectorize(lambda x: mask_zero(x))\n",
    "print(\"\\n\")\n",
    "print(\"Below is the inversed L after LU decomposistion:\\r\")\n",
    "print(vfunc_rnd(decmp_lu(A_decmp_test)[0]))\n",
    "print(\"\\n\")\n",
    "print(\"Below is the U after LU decomposistion:\\r\")\n",
    "print(vfunc_rnd(decmp_lu(A_decmp_test)[1]))\n",
    "print(\"\\n\")\n",
    "print(\"Below is the vector b on the right side of the equation:\\r\")\n",
    "print(b_decmp_test)"
   ],
   "metadata": {
    "collapsed": false,
    "pycharm": {
     "name": "#%%\n"
    }
   }
  },
  {
   "cell_type": "code",
   "execution_count": 4,
   "outputs": [],
   "source": [
    "def sub_back(U,c):\n",
    "    if U.shape[1]!=c.shape[0]:\n",
    "        return(\"Wrong Formulation!\")\n",
    "    n = U.shape[1]\n",
    "    c[n-1][0] = c[n-1][0]/U[n-1][n-1]\n",
    "    for i in range(n-2, -1, -1):\n",
    "        for j in range(n-1, i, -1):\n",
    "            c[i][0] -= U[i][j]*c[j][0]\n",
    "        c[i][0] = c[i][0]/U[i][i]\n",
    "    return c"
   ],
   "metadata": {
    "collapsed": false,
    "pycharm": {
     "name": "#%%\n"
    }
   }
  },
  {
   "cell_type": "code",
   "execution_count": 5,
   "outputs": [
    {
     "data": {
      "text/plain": "array([[  1.6975399 ],\n       [  9.31078437],\n       [-14.69889899],\n       [  5.09652727],\n       [-11.77397147]])"
     },
     "execution_count": 5,
     "metadata": {},
     "output_type": "execute_result"
    }
   ],
   "source": [
    "# Method 1: x = np.dot(inv_A, b)\n",
    "x_inv_test = np.dot(np.linalg.inv(A_decmp_test),b_decmp_test)\n",
    "x_inv_test"
   ],
   "metadata": {
    "collapsed": false,
    "pycharm": {
     "name": "#%%\n"
    }
   }
  },
  {
   "cell_type": "code",
   "execution_count": 6,
   "outputs": [
    {
     "data": {
      "text/plain": "array([[  1.6975399 ],\n       [  9.31078437],\n       [-14.69889899],\n       [  5.09652727],\n       [-11.77397147]])"
     },
     "execution_count": 6,
     "metadata": {},
     "output_type": "execute_result"
    }
   ],
   "source": [
    "# Method 2: Ax=b -> Ux = c = np.dot(inv_L,b) -> x = np.dot(inv_U,c)\n",
    "inv_L = vfunc_rnd(decmp_lu(A_decmp_test)[0])\n",
    "inv_U = np.linalg.inv(vfunc_rnd(decmp_lu(A_decmp_test)[1]))\n",
    "c_decmp_test = np.dot(inv_L,b_decmp_test)\n",
    "x_decmp_test = np.dot(inv_U, c_decmp_test)\n",
    "x_decmp_test"
   ],
   "metadata": {
    "collapsed": false,
    "pycharm": {
     "name": "#%%\n"
    }
   }
  },
  {
   "cell_type": "code",
   "execution_count": 7,
   "outputs": [
    {
     "data": {
      "text/plain": "array([[  1.6975399 ],\n       [  9.31078437],\n       [-14.69889899],\n       [  5.09652727],\n       [-11.77397147]])"
     },
     "execution_count": 7,
     "metadata": {},
     "output_type": "execute_result"
    }
   ],
   "source": [
    "# Method 3: Ax=b -> Ux = c = np.dot(inv_L,b) -> x = sub_back(U,c)\n",
    "U_sub_back_test = vfunc_rnd(decmp_lu(A_decmp_test)[1])\n",
    "c_sub_back_test = c_decmp_test\n",
    "sub_back(U_sub_back_test,c_sub_back_test)"
   ],
   "metadata": {
    "collapsed": false,
    "pycharm": {
     "name": "#%%\n"
    }
   }
  },
  {
   "cell_type": "code",
   "execution_count": null,
   "outputs": [],
   "source": [
    "\n"
   ],
   "metadata": {
    "collapsed": false,
    "pycharm": {
     "name": "#%%\n"
    }
   }
  }
 ],
 "metadata": {
  "kernelspec": {
   "display_name": "Python 3",
   "language": "python",
   "name": "python3"
  },
  "language_info": {
   "codemirror_mode": {
    "name": "ipython",
    "version": 2
   },
   "file_extension": ".py",
   "mimetype": "text/x-python",
   "name": "python",
   "nbconvert_exporter": "python",
   "pygments_lexer": "ipython2",
   "version": "2.7.6"
  }
 },
 "nbformat": 4,
 "nbformat_minor": 0
}