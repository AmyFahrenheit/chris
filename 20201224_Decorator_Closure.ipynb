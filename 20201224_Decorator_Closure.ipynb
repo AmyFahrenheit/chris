{
 "cells": [
  {
   "cell_type": "code",
   "execution_count": 2,
   "metadata": {
    "collapsed": true
   },
   "outputs": [],
   "source": [
    "from functools import wraps, partial\n",
    "import datetime"
   ]
  },
  {
   "cell_type": "code",
   "execution_count": 8,
   "outputs": [
    {
     "name": "stdout",
     "output_type": "stream",
     "text": [
      "I'm the second function to be decorated.\n",
      "My returned value is to be encrypted.\r\n",
      "My ENCRYPTED returned value is 7.5.\n",
      "\n",
      "Merry Christmas Eve!\n"
     ]
    }
   ],
   "source": [
    "def encryption_dec(func = None, date = \"11-27\"):\n",
    "\n",
    "    if func is None:\n",
    "        return partial(encryption_dec, date = date)\n",
    "\n",
    "    c = 150\n",
    "    d = 200\n",
    "    dict_vacations = {\"01-01\": \"Happy New Year!\",\n",
    "              \"04-04\": \"Happy Easter!\",\n",
    "              \"07-04\": \"Enjoy the Day of Independence!\",\n",
    "              \"11-27\": \"Happy Thanksgiving!\",\n",
    "              \"12-24\": \"Merry Christmas Eve!\",\n",
    "              \"12-25\": \"Merry Christmas!\"}\n",
    "    @wraps(func)\n",
    "    def wrapper(*args,**kwargs):\n",
    "        val_func = func(*args,**kwargs)\n",
    "        val_encrypted = val_func*c/d\n",
    "        '''\n",
    "        str_returned = \"My ENCRYPTED returned value is %.2f.\"%(val_encrypted)\n",
    "        return str_returned\n",
    "        '''\n",
    "        print(f\"My ENCRYPTED returned value is {val_encrypted}.\\n\")\n",
    "        if date in dict_vacations:\n",
    "            print(dict_vacations[date])\n",
    "    return wrapper\n",
    "\n",
    "date_today_formatted = datetime.date.today().strftime(\"%m-%d\")\n",
    "\n",
    "@encryption_dec(date = date_today_formatted)\n",
    "def myfunc_sum_return(*nums):\n",
    "    print(\"I'm the second function to be decorated.\\n\"\n",
    "          \"My returned value is to be encrypted.\\r\")\n",
    "    val_sum = sum(nums)\n",
    "    return val_sum\n",
    "\n",
    "myfunc_sum_return(1,2,3,4)\n"
   ],
   "metadata": {
    "collapsed": false,
    "pycharm": {
     "name": "#%%\n"
    }
   }
  },
  {
   "cell_type": "code",
   "execution_count": null,
   "outputs": [],
   "source": [
    "\n"
   ],
   "metadata": {
    "collapsed": false,
    "pycharm": {
     "name": "#%%\n"
    }
   }
  }
 ],
 "metadata": {
  "kernelspec": {
   "display_name": "Python 3",
   "language": "python",
   "name": "python3"
  },
  "language_info": {
   "codemirror_mode": {
    "name": "ipython",
    "version": 2
   },
   "file_extension": ".py",
   "mimetype": "text/x-python",
   "name": "python",
   "nbconvert_exporter": "python",
   "pygments_lexer": "ipython2",
   "version": "2.7.6"
  }
 },
 "nbformat": 4,
 "nbformat_minor": 0
}