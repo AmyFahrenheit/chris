{
 "cells": [
  {
   "cell_type": "code",
   "execution_count": 17,
   "metadata": {
    "collapsed": true
   },
   "outputs": [],
   "source": [
    "import numpy as np\n",
    "import matplotlib.pyplot as plt\n",
    "\n",
    "### 导入OrderedDict类：\n",
    "from collections import OrderedDict\n",
    "\n",
    "### 导入struct库，用于解包二进制数据：\n",
    "import struct\n",
    "\n",
    "### 导入os库，用于从云上读取数据：\n",
    "import os"
   ]
  },
  {
   "cell_type": "markdown",
   "source": [
    "### 先进行数据预处理，包括读取、格式转换；归一化（图像数据）/编码方式转换（标签数据）："
   ],
   "metadata": {
    "collapsed": false,
    "pycharm": {
     "name": "#%% md\n"
    }
   }
  },
  {
   "cell_type": "code",
   "execution_count": null,
   "outputs": [],
   "source": [
    "### 看一下当前路径；必要的话切到'/root/.jupyter/lab/workspaces/work'：\n",
    "os.getcwd()\n",
    "#os.chdir(\"/root/.jupyter/lab/workspaces/work\")"
   ],
   "metadata": {
    "collapsed": false,
    "pycharm": {
     "name": "#%%\n"
    }
   }
  },
  {
   "cell_type": "code",
   "execution_count": 25,
   "outputs": [],
   "source": [
    "### 设定待读取的文件名列表，逐个读取：\n",
    "dir_datasets = os.getcwd()\n",
    "list_filenames = ['train-images-idx3-ubyte','t10k-images-idx3-ubyte',\n",
    "                  'train-labels-idx1-ubyte','t10k-labels-idx1-ubyte']"
   ],
   "metadata": {
    "collapsed": false,
    "pycharm": {
     "name": "#%%\n"
    }
   }
  },
  {
   "cell_type": "code",
   "execution_count": 22,
   "outputs": [],
   "source": [
    "### 读取训练集图像数据：\n",
    "path_training_imgs = dir_datasets+'/'+list_filenames[0]\n",
    "with open(path_training_imgs, \"rb\") as file_data_training:\n",
    "    data_training = file_data_training.read() ### 读出全部的数据\n",
    "    '''该数据的第0-15位分别是训练集的magic number, 图片数和行列像素数，各占4位。跳过。'''\n",
    "    pics_training = data_training[16:] ### 以下为训练集图片数据\n",
    "    length_pics_training = len(pics_training)\n",
    "    #print(length_pics_training) ### 训练集图片数据的长度，应为60000✕28✕28 = 47040000：\n",
    "    data_pics_training = struct.unpack(\">{}B\".format(length_pics_training), pics_training) ### 大端法解包"
   ],
   "metadata": {
    "collapsed": false,
    "pycharm": {
     "name": "#%%\n"
    }
   }
  },
  {
   "cell_type": "code",
   "execution_count": 23,
   "outputs": [
    {
     "data": {
      "text/plain": "(47040000,)"
     },
     "execution_count": 23,
     "metadata": {},
     "output_type": "execute_result"
    }
   ],
   "source": [
    "### 将训练集图片数据转成np.array, 查看一下长度是否正确，应为47040000：\n",
    "data_pics_training = np.array(data_pics_training)\n",
    "#data_pics_training.shape"
   ],
   "metadata": {
    "collapsed": false,
    "pycharm": {
     "name": "#%%\n"
    }
   }
  },
  {
   "cell_type": "code",
   "execution_count": 24,
   "outputs": [
    {
     "data": {
      "text/plain": "(60000, 784)"
     },
     "execution_count": 24,
     "metadata": {},
     "output_type": "execute_result"
    }
   ],
   "source": [
    "### 将训练集图片数据转换成784列（即后续的size_input，第一个权重矩阵的列数）：\n",
    "data_pics_training_shaped = np.reshape(data_pics_training, (60000, 784))\n",
    "#data_pics_training_shaped.shape"
   ],
   "metadata": {
    "collapsed": false,
    "pycharm": {
     "name": "#%%\n"
    }
   }
  },
  {
   "cell_type": "code",
   "execution_count": 26,
   "outputs": [
    {
     "name": "stdout",
     "output_type": "stream",
     "text": [
      "7840000\n"
     ]
    }
   ],
   "source": [
    "### 同法读取测试集图片数据：\n",
    "path_testing_imgs = dir_datasets+'/'+list_filenames[1]\n",
    "with open(path_testing_imgs, \"rb\") as file_data_testing:\n",
    "    data_testing = file_data_testing.read()\n",
    "    pics_testing = data_testing[16:]\n",
    "    length_pics_testing = len(pics_testing)\n",
    "    #print(length_pics_testing) ### 测试集图片数据的长度，应为10000✕28✕28 = 7840000：\n",
    "    data_pics_testing = struct.unpack(\">{}B\".format(length_pics_testing), pics_testing) ### 大端法解包"
   ],
   "metadata": {
    "collapsed": false,
    "pycharm": {
     "name": "#%%\n"
    }
   }
  },
  {
   "cell_type": "code",
   "execution_count": 28,
   "outputs": [
    {
     "data": {
      "text/plain": "(7840000,)"
     },
     "execution_count": 28,
     "metadata": {},
     "output_type": "execute_result"
    }
   ],
   "source": [
    "### 将测试集图片数据转成np.array, 长度应为7840000：\n",
    "data_pics_testing = np.array(data_pics_testing)\n",
    "#data_pics_testing.shape"
   ],
   "metadata": {
    "collapsed": false,
    "pycharm": {
     "name": "#%%\n"
    }
   }
  },
  {
   "cell_type": "code",
   "execution_count": 29,
   "outputs": [
    {
     "data": {
      "text/plain": "(10000, 784)"
     },
     "execution_count": 29,
     "metadata": {},
     "output_type": "execute_result"
    }
   ],
   "source": [
    "### 将测试集图片数据也转换成784列：\n",
    "data_pics_testing_shaped = np.reshape(data_pics_testing, (10000, 784))\n",
    "#data_pics_testing_shaped.shape"
   ],
   "metadata": {
    "collapsed": false,
    "pycharm": {
     "name": "#%%\n"
    }
   }
  },
  {
   "cell_type": "code",
   "execution_count": 30,
   "outputs": [],
   "source": [
    "### 将训练集和测试集图片数据都归一化：\n",
    "x_train = data_pics_training_shaped.astype(np.float32)/255.0\n",
    "x_test = data_pics_testing_shaped.astype(np.float32)/255.0"
   ],
   "metadata": {
    "collapsed": false,
    "pycharm": {
     "name": "#%%\n"
    }
   }
  },
  {
   "cell_type": "code",
   "execution_count": 31,
   "outputs": [
    {
     "name": "stdout",
     "output_type": "stream",
     "text": [
      "60000\n"
     ]
    }
   ],
   "source": [
    "### 下面打开训练集的标签数据：\n",
    "path_training_labels = dir_datasets+'/'+list_filenames[2]\n",
    "with open(path_training_labels, \"rb\") as file_labels_training:\n",
    "    data_training_l = file_labels_training.read()\n",
    "    '''该数据的第0-7位分别为magic number和标签数。跳过。'''\n",
    "    labels_training = data_training_l[8:] ### 以下为训练集标签数据：\n",
    "    length_labels_training = len(labels_training)\n",
    "    print(length_labels_training) ### 训练集标签数据的长度，应为60000：\n",
    "    data_labels_training = struct.unpack(\">{}B\".format(length_labels_training), labels_training)"
   ],
   "metadata": {
    "collapsed": false,
    "pycharm": {
     "name": "#%%\n"
    }
   }
  },
  {
   "cell_type": "code",
   "execution_count": 32,
   "outputs": [
    {
     "data": {
      "text/plain": "(60000,)"
     },
     "execution_count": 32,
     "metadata": {},
     "output_type": "execute_result"
    }
   ],
   "source": [
    "### 格式转换，长度应为60000：\n",
    "data_labels_training = np.array(data_labels_training)\n",
    "#data_labels_training.shape"
   ],
   "metadata": {
    "collapsed": false,
    "pycharm": {
     "name": "#%%\n"
    }
   }
  },
  {
   "cell_type": "code",
   "execution_count": 33,
   "outputs": [
    {
     "name": "stdout",
     "output_type": "stream",
     "text": [
      "10000\n"
     ]
    }
   ],
   "source": [
    "### 同法打开测试集的标签数据：\n",
    "path_testing_labels = dir_datasets+'/'+list_filenames[3]\n",
    "with open(path_testing_labels, \"rb\") as file_labels_testing:\n",
    "    data_testing_l = file_labels_testing.read()\n",
    "    labels_testing = data_testing_l[8:] ### 以下为测试集标签数据：\n",
    "    length_labels_testing = len(labels_testing)\n",
    "    #print(length_labels_testing) ### 测试集标签数据的长度，应为10000：\n",
    "    data_labels_testing = struct.unpack(\">{}B\".format(length_labels_testing), labels_testing)"
   ],
   "metadata": {
    "collapsed": false,
    "pycharm": {
     "name": "#%%\n"
    }
   }
  },
  {
   "cell_type": "code",
   "execution_count": 34,
   "outputs": [
    {
     "data": {
      "text/plain": "(10000,)"
     },
     "execution_count": 34,
     "metadata": {},
     "output_type": "execute_result"
    }
   ],
   "source": [
    "### 格式转换，长度应为10000：\n",
    "data_labels_testing = np.array(data_labels_testing)\n",
    "#data_labels_testing.shape"
   ],
   "metadata": {
    "collapsed": false,
    "pycharm": {
     "name": "#%%\n"
    }
   }
  },
  {
   "cell_type": "code",
   "execution_count": 35,
   "outputs": [],
   "source": [
    "### 定义非独热转独热编码的函数：\n",
    "def to_onehot(x): ### x为待转换的numpy数组\n",
    "    label_onehot = np.zeros((len(x), len(np.unique(x)))) ### 行数是原标签的行数（原标签应为N行一列），列数是原标签惟一值的个数\n",
    "    for i in range(len(x)):\n",
    "        j = x[i]\n",
    "        label_onehot[i][j] = 1\n",
    "    return label_onehot"
   ],
   "metadata": {
    "collapsed": false,
    "pycharm": {
     "name": "#%%\n"
    }
   }
  },
  {
   "cell_type": "code",
   "execution_count": 36,
   "outputs": [
    {
     "data": {
      "text/plain": "(60000, 10)"
     },
     "execution_count": 36,
     "metadata": {},
     "output_type": "execute_result"
    }
   ],
   "source": [
    "### 转换训练集标签，查看形状；应为60000*10：\n",
    "t_train = to_onehot(data_labels_training)\n",
    "#t_train.shape"
   ],
   "metadata": {
    "collapsed": false,
    "pycharm": {
     "name": "#%%\n"
    }
   }
  },
  {
   "cell_type": "code",
   "execution_count": 37,
   "outputs": [
    {
     "data": {
      "text/plain": "(10000, 10)"
     },
     "execution_count": 37,
     "metadata": {},
     "output_type": "execute_result"
    }
   ],
   "source": [
    "### 转换测试集标签，查看形状；应为10000*10：\n",
    "t_test = to_onehot(data_labels_testing)\n",
    "#t_test.shape"
   ],
   "metadata": {
    "collapsed": false,
    "pycharm": {
     "name": "#%%\n"
    }
   }
  },
  {
   "cell_type": "markdown",
   "source": [
    "### 数据准备完毕后，接下来就要着手构建神经网络，并通过梯度下降法求出损失函数的最小值（理想状况下）；以及与之相对应的参数（权重和偏置值）。\n",
    "\n",
    "### 本法的大致原理如下：\n",
    "### 训练集的图像数据（60000×784），在二层神经网络的第一层（1），先点乘一个权重矩阵W1（784×M），加上一个广播后的偏置数组b1（M）；\n",
    "### 将这一步结果用ReLU函数激活，结果为（60000×M）的矩阵。\n",
    "### 在二层神经网络的第二层（2），将上述结果点乘第二个权重W2（M×10）,再加上第二个偏置值b2（10）；结果为（60000×10）的矩阵。\n",
    "### 下一步，将该矩阵通过softmax运算，求出每行中的每个值（对应数字0-9）出现的相对概率；结果仍为（60000×10）的矩阵。\n",
    "### 下一步，将上一步的结果与独热化的标签数据【亦为（60000×10）的矩阵】比较，求出交叉熵结果（是个标量）。\n",
    "\n",
    "### 该交叉熵函数分别对上述的W1,b1,W2,b2求偏导（用误差反向传播法，见后文），其集合即为梯度。\n",
    "### 以上各参数值分别减去“学习率”乘以对应偏导值的积（即沿偏导方向“往下走一步”），即向交叉熵函数的最小值靠近了一步（理想状态下）。\n",
    "### 然后用更新过后的各参数值再照上法处理图像数据，此处完成一个迭代循环。重复以上各步，直至交叉熵函数值趋于稳定；\n",
    "### 取出对应的各参数，即可用于测试集数据的预测和相应的精度计算。\n",
    "\n",
    "### 上述的W1,b1,W2,b2为神经网络的参数；而学习率、初始权重的标准差值（见后文）和迭代次数等称为超参数，是神经网络优化的对象。\n",
    "\n",
    "### 下面，先定义softmax和交叉熵函数，然后建立各运算的层（类），包括W/b处理数据的层，ReLU函数的层，以及softmax/交叉熵函数层。\n",
    "### 每个层中都会定义正向和反向的方法；正向用于上文中提及的各步运算，反向用于求偏导。"
   ],
   "metadata": {
    "collapsed": false,
    "pycharm": {
     "name": "#%% md\n"
    }
   }
  },
  {
   "cell_type": "code",
   "execution_count": 66,
   "outputs": [],
   "source": [
    "### 定义用于求每行各值概率的softmax函数：\n",
    "def softmax(x): ### 这里的x是二维数组\n",
    "    x = x.T\n",
    "    x = x - np.max(x, axis=0) ### 防溢出\n",
    "    y = np.exp(x) / np.sum(np.exp(x), axis=0)\n",
    "    return y.T"
   ],
   "metadata": {
    "collapsed": false,
    "pycharm": {
     "name": "#%%\n"
    }
   }
  },
  {
   "cell_type": "code",
   "execution_count": 67,
   "outputs": [],
   "source": [
    "### 定义将独热和非独热编码交叉熵合二为一的函数：\n",
    "def cross_entropy_error(y,t): ### 这里的y是预测结果，t是标签：\n",
    "    if y.ndim == 1: ### 如果两者都是一维数组，那么要转为矩阵的形式：\n",
    "        y = y.reshape(1, y.size)\n",
    "        t = t.reshape(1, t.size)\n",
    "    delta = 1e-7 ### 保护\n",
    "    batch_size = y.shape[0] ### batch_size为 y（抽出的结果矩阵的一部分）的行数\n",
    "    if y.shape == t.shape: ### 独热：\n",
    "        return -np.sum(t*np.log(y+delta)) / batch_size ### 求交叉熵的均值；相当于“归一化”\n",
    "    else: ### 非独热：\n",
    "        return -np.sum(np.log(y[np.arange(batch_size),t]+delta)) / batch_size"
   ],
   "metadata": {
    "collapsed": false,
    "pycharm": {
     "name": "#%%\n"
    }
   }
  },
  {
   "cell_type": "markdown",
   "source": [
    "### 以下为各运算的层。在后续定义神经网络（类）的时候，会用OrderedDict把各个类按运算顺序按串联起来；\n",
    "### 正向运算就按正常串联顺序跑，反向时按逆序跑（反向误差传播法）。\n",
    "### 实际上，反向误差传播法就是求后一步的结果对前一步的偏导；根据复合函数求偏导的法则，最终结果对W1~b2各参数的偏导，就是各步偏导的积。"
   ],
   "metadata": {
    "collapsed": false,
    "pycharm": {
     "name": "#%% md\n"
    }
   }
  },
  {
   "cell_type": "code",
   "execution_count": 68,
   "outputs": [],
   "source": [
    "### 定义权重和偏置运算层：\n",
    "class AffineLayer:\n",
    "    ### 初始化时直接给self.W和self.b属性赋值，不用在调用任何其他方法时再赋值；这么做是为了与前后的层衔接方便。\n",
    "    def __init__(self, W, b):\n",
    "        self.W = W\n",
    "        self.b = b\n",
    "        self.x = None\n",
    "        self.dW = None\n",
    "        self.db = None\n",
    "\n",
    "    ### 正向方法，输入原始数据数组，返回权重/偏置值变换后的数组（形状变了）：\n",
    "    def forward(self, x):\n",
    "        self.x = x\n",
    "        out = np.dot(x, self.W) + self.b  ### 本函数（方法）内赋值的self.x，不直接调用；初始化过的self.W和self.b可以直接用\n",
    "        return out\n",
    "\n",
    "    '''\n",
    "    反向方法，输入前一步反向方法得出的数组，返回与该步输入的原始数据数组形状相同的数组；\n",
    "    此外，还生成并存储了损失函数对权重的梯度（其实是前一步反向方法得出的数组与该步输入的原始数据数组的转置的点乘）\n",
    "    和对偏置的梯度（前一步反向方法得出的数组在列方向上的逐项加和，即列数不变，“压缩”为一行）\n",
    "    '''\n",
    "    def backward(self, dout):\n",
    "        dx = np.dot(dout, self.W.T)\n",
    "        self.dW = np.dot(self.x.T, dout)  ### 这里给self.dW和self.db两个属性赋值；调用过一次backward就有了\n",
    "        self.db = np.sum(dout, axis=0)\n",
    "        return dx  ### 这里只返回dx，不（直接）返回dW和db是出于与前后各层衔接方便的考量"
   ],
   "metadata": {
    "collapsed": false,
    "pycharm": {
     "name": "#%%\n"
    }
   }
  },
  {
   "cell_type": "code",
   "execution_count": 69,
   "outputs": [],
   "source": [
    "### 构建ReLU函数的层：\n",
    "'''ReLU函数实为第一层神经网络权重/偏置运算后的“激活”函数；\n",
    "其运算为：对于该矩阵的每一个值，大于零的原样输出，小于等于零的输出零。\n",
    "返回一个与输入矩阵形状相同的矩阵。'''\n",
    "class ReLULayer:\n",
    "    def __init__(self):\n",
    "        ### 这里的mask后续要“填入”（对输入的x的各元素值判断得出）的是布尔值，即元素值是否小于等于0\n",
    "        ### 因为正向时需要进行判断并存储，以便反向时可以使用，所以初始化时要设定：\n",
    "        self.mask = None\n",
    "\n",
    "    def forward(self, x):  ### 这里的x是数组：\n",
    "        self.mask = (x <= 0)  ### 布尔值；判断元素值是否小于等于零\n",
    "        out = x.copy()\n",
    "        out[self.mask] = 0\n",
    "        return out\n",
    "\n",
    "    def backward(self, dout):\n",
    "        dout[self.mask] = 0  ### 反向时，若元素值小于等于零，则偏导为零（偏导流“中止”）；否则偏导流原样流下去：\n",
    "        dx = dout\n",
    "        return dx"
   ],
   "metadata": {
    "collapsed": false,
    "pycharm": {
     "name": "#%%\n"
    }
   }
  },
  {
   "cell_type": "code",
   "execution_count": 70,
   "outputs": [],
   "source": [
    "### 构建SoftMax和交叉熵合二为一的层：\n",
    "class SoftMaxLossLayer:\n",
    "    def __init__(self):\n",
    "        self.loss = None\n",
    "        self.y = None\n",
    "        self.t = None\n",
    "\n",
    "    ### 正向：输入前一步权重/偏置值变换处理的结果数组（“准”预测结果）和标签，\n",
    "    ### 先用Softmax转为概率值（“真正的”预测结果），再计算并返回该概率值与标签间的损失函数值：\n",
    "    def forward(self, x, t):\n",
    "        self.t = t\n",
    "        self.y = softmax(x)\n",
    "        self.loss = cross_entropy_error(self.y, self.t)\n",
    "        return self.loss\n",
    "\n",
    "    ### 反向：输入默认值为1的损失函数对自身的偏导，输出与y和t形状相同的数组：\n",
    "    def backward(self, dout=1):\n",
    "        batch_size = self.t.shape[0]  ### 行数；也可以是x或y的行数，都是一样的\n",
    "        dx = (self.y - self.t) / batch_size\n",
    "        return dx"
   ],
   "metadata": {
    "collapsed": false,
    "pycharm": {
     "name": "#%%\n"
    }
   }
  },
  {
   "cell_type": "markdown",
   "source": [
    "### 以上为各步正/反向方法的层。\n",
    "### 以下定义二层神经网络。"
   ],
   "metadata": {
    "collapsed": false,
    "pycharm": {
     "name": "#%% md\n"
    }
   }
  },
  {
   "cell_type": "code",
   "execution_count": 71,
   "outputs": [],
   "source": [
    "### 二层神经网络的类：\n",
    "class TwoLayerNet:\n",
    "    def __init__(self, size_input, size_hidden, size_output, wt_init_std=0.01):\n",
    "        '''权重和偏置值的初始化。\n",
    "        设定权重矩阵W1, W2的值为遵循高斯分布的随机值；但要乘上一个超参数wt_init_std(标准差)。\n",
    "        设定偏置值数组b1,b2为全零。\n",
    "        '''\n",
    "        self.params = {}\n",
    "        self.params[\"W1\"] = wt_init_std * np.random.randn(size_input, size_hidden)\n",
    "        self.params[\"b1\"] = np.zeros(size_hidden)\n",
    "        self.params[\"W2\"] = wt_init_std * np.random.randn(size_hidden, size_output)\n",
    "        self.params[\"b2\"] = np.zeros(size_output)\n",
    "\n",
    "        '''定义layers属性为有序字典；把上文定义的各运算的层按顺序放入;\n",
    "        之后按需要顺序或逆序调用即可。'''\n",
    "        self.layers = OrderedDict()\n",
    "        self.layers['Affine1'] = AffineLayer(self.params['W1'], self.params['b1'])\n",
    "        self.layers['ReLU'] = ReLULayer()\n",
    "        self.layers['Affine2'] = AffineLayer(self.params['W2'], self.params['b2'])\n",
    "        self.lastlayer = SoftMaxLossLayer()\n",
    "\n",
    "    def predict(self, x):\n",
    "        '''所谓预测, 即按顺序调用上述layers中的各层。\n",
    "        注意这里不包括最后一层；因为softmax和交叉熵是一起运算的。\n",
    "        这里的x为输入的原始数据（的一部分，取决于batch_size）。'''\n",
    "        for layer in self.layers.values():\n",
    "            x = layer.forward(x)\n",
    "        return x\n",
    "\n",
    "    def loss(self, x, t):\n",
    "        '''这里的x和上文predict属性的参数x一样，指的是输入数据。\n",
    "        t为标签数据。\n",
    "        这里的lastlayer，即先对y进行softmax运算求概率，再与t值一起求交叉熵值。'''\n",
    "        y = self.predict(x)\n",
    "        return self.lastlayer.forward(y, t)\n",
    "\n",
    "    def accuracy(self, x, t):\n",
    "        '''精度计算，即分别求出预测结果y和标签t每行的最大值，然后逐行对比。\n",
    "        相同的就计数为1，最终除以行数，为精度值。'''\n",
    "        y = self.predict(x)\n",
    "        y = np.argmax(y, axis=1)\n",
    "        t = np.argmax(t, axis=1)\n",
    "        accuracy = np.sum(y == t) / float(x.shape[0])\n",
    "        return accuracy\n",
    "\n",
    "    def partial_gradient(self, x, t):\n",
    "        '''根据上文所述，求最终结果（交叉熵值）对W1~b2的偏导，实则为各步偏导的积。'''\n",
    "        ### 正向：直接调用loss方法\n",
    "        self.loss(x, t)\n",
    "        ### 反向：设最后一步对自身的偏导值为1，逆序调用各层，即可求出偏导值。\n",
    "        dout = 1\n",
    "        dout = self.lastlayer.backward(dout)\n",
    "        layers = list(self.layers.values())\n",
    "        layers.reverse()\n",
    "        for layer in layers:\n",
    "            dout = layer.backward(dout)\n",
    "\n",
    "        '''最后，以字典的形式存储梯度值。字典的每个值即为交叉熵函数对对应键的偏导值。'''\n",
    "        grads = {}\n",
    "        grads[\"W1\"] = self.layers[\"Affine1\"].dW\n",
    "        grads[\"b1\"] = self.layers[\"Affine1\"].db\n",
    "        grads[\"W2\"] = self.layers[\"Affine2\"].dW\n",
    "        grads[\"b2\"] = self.layers[\"Affine2\"].db\n",
    "\n",
    "        return grads"
   ],
   "metadata": {
    "collapsed": false,
    "pycharm": {
     "name": "#%%\n"
    }
   }
  },
  {
   "cell_type": "code",
   "execution_count": 90,
   "outputs": [],
   "source": [
    "'''最后，就是通过神经网络类的实例化完成最终的迭代过程。\n",
    "这里的size_input和size_output是固定的；size_hidden则不一定。\n",
    "我在这里没有作最优化；你有兴趣的话可以尝试。\n",
    "但是，我把超参数之一的初始权重标准值改成了0.05;\n",
    "因为你会发现如果用0.01的话，迭代结果损失函数值根本下不去。原因你有兴趣的话，之后解释。\n",
    "建议你把这项再往上调，实现最优化。'''\n",
    "network = TwoLayerNet(size_input=784, size_hidden=50, size_output=10, wt_init_std=0.05)"
   ],
   "metadata": {
    "collapsed": false,
    "pycharm": {
     "name": "#%%\n"
    }
   }
  },
  {
   "cell_type": "code",
   "execution_count": 91,
   "outputs": [],
   "source": [
    "### 设定其他超参数，如迭代次数、学习率等。这些超参数可进行最优化尝试。\n",
    "iters_num = 10000\n",
    "learning_rate = 0.1"
   ],
   "metadata": {
    "collapsed": false,
    "pycharm": {
     "name": "#%%\n"
    }
   }
  },
  {
   "cell_type": "code",
   "execution_count": 92,
   "outputs": [
    {
     "name": "stdout",
     "output_type": "stream",
     "text": [
      "第0个epoch结束后，在训练集和测试集上的预测精度分别为13.29%和 13.73%。\n",
      "\n",
      "第1个epoch结束后，在训练集和测试集上的预测精度分别为90.93%和 91.41%。\n",
      "\n",
      "第2个epoch结束后，在训练集和测试集上的预测精度分别为92.94%和 93.14%。\n",
      "\n",
      "第3个epoch结束后，在训练集和测试集上的预测精度分别为94.04%和 94.08%。\n",
      "\n",
      "第4个epoch结束后，在训练集和测试集上的预测精度分别为94.64%和 94.41%。\n",
      "\n",
      "第5个epoch结束后，在训练集和测试集上的预测精度分别为95.3%和 95.21%。\n",
      "\n",
      "第6个epoch结束后，在训练集和测试集上的预测精度分别为95.88%和 95.51%。\n",
      "\n",
      "第7个epoch结束后，在训练集和测试集上的预测精度分别为96.19%和 95.8%。\n",
      "\n",
      "第8个epoch结束后，在训练集和测试集上的预测精度分别为96.54%和 96.08%。\n",
      "\n",
      "第9个epoch结束后，在训练集和测试集上的预测精度分别为96.85%和 96.4%。\n",
      "\n",
      "第10个epoch结束后，在训练集和测试集上的预测精度分别为97.12%和 96.53%。\n",
      "\n",
      "第11个epoch结束后，在训练集和测试集上的预测精度分别为97.19%和 96.67%。\n",
      "\n",
      "第12个epoch结束后，在训练集和测试集上的预测精度分别为97.35%和 96.75%。\n",
      "\n",
      "第13个epoch结束后，在训练集和测试集上的预测精度分别为97.55%和 96.67%。\n",
      "\n",
      "第14个epoch结束后，在训练集和测试集上的预测精度分别为97.78%和 96.94%。\n",
      "\n",
      "第15个epoch结束后，在训练集和测试集上的预测精度分别为97.9%和 97.16%。\n",
      "\n",
      "第16个epoch结束后，在训练集和测试集上的预测精度分别为97.97%和 97.05%。\n",
      "\n"
     ]
    }
   ],
   "source": [
    "### 设定一些其他需要用于迭代过程的变量。空列表用于存储迭代结果，以及预测精度。\n",
    "train_size = x_train.shape[0]\n",
    "batch_size = 100\n",
    "train_loss_list = []\n",
    "train_acc_list = []\n",
    "test_acc_list = []\n",
    "\n",
    "### 迭代（每次随机抽取一个batch）：\n",
    "for i in range(iters_num):\n",
    "    batch_mask = np.random.choice(train_size, batch_size)\n",
    "    x_batch = x_train[batch_mask]\n",
    "    t_batch = t_train[batch_mask]\n",
    "\n",
    "    ### 调用partial_gradient方法求梯度：\n",
    "    grads = network.partial_gradient(x_batch, t_batch)\n",
    "\n",
    "    ### 对每个参数值进行更新，即沿梯度方向“向下走一小步”：\n",
    "    for key in ('W1', 'b1', 'W2', 'b2'):\n",
    "        network.params[key] -= learning_rate * grads[key]\n",
    "\n",
    "    ### 求损失函数值，存储结果：\n",
    "    loss = network.loss(x_batch, t_batch)\n",
    "    train_loss_list.append(loss)\n",
    "\n",
    "    ### 每跑完一个epoch(即理论上循环完一轮60000条训练集图像数据)，分别计算一次训练集和测试集的精度值：\n",
    "    if (i*batch_size)%train_size == 0:\n",
    "        train_acc = round(network.accuracy(x_train, t_train)*100, 2)\n",
    "        test_acc = round(network.accuracy(x_test, t_test)*100, 2)\n",
    "        train_acc_list.append(train_acc)\n",
    "        test_acc_list.append(test_acc)\n",
    "        print(f'第{(i*batch_size)//train_size}个epoch结束后，在训练集和测试集上的预测精度分别为{train_acc}%和 {test_acc}%。\\n')"
   ],
   "metadata": {
    "collapsed": false,
    "pycharm": {
     "name": "#%%\n"
    }
   }
  },
  {
   "cell_type": "code",
   "execution_count": 86,
   "outputs": [
    {
     "name": "stdout",
     "output_type": "stream",
     "text": [
      "迭代完成后，在训练集和测试集上的最终精度分别为99.9%和97.41%。\n",
      "\n"
     ]
    }
   ],
   "source": [
    "### 最终结果，迭代优化后的参数在训练集和测试集上的精度：\n",
    "train_acc_final = round(network.accuracy(x_train, t_train)*100, 2)\n",
    "test_acc_final = round(network.accuracy(x_test, t_test)*100, 2)\n",
    "print(f'迭代完成后，在训练集和测试集上的最终精度分别为{train_acc_final}%和{test_acc_final}%。\\n')"
   ],
   "metadata": {
    "collapsed": false,
    "pycharm": {
     "name": "#%%\n"
    }
   }
  },
  {
   "cell_type": "code",
   "execution_count": 95,
   "outputs": [
    {
     "data": {
      "text/plain": "Text(0, 0.5, 'Values of Loss Functions')"
     },
     "execution_count": 95,
     "metadata": {},
     "output_type": "execute_result"
    },
    {
     "data": {
      "text/plain": "<Figure size 432x288 with 1 Axes>",
      "image/png": "[encoded data removed]"
     },
     "metadata": {
      "needs_background": "light"
     },
     "output_type": "display_data"
    }
   ],
   "source": [
    "### 损失函数值对迭代次数作图：\n",
    "times_iter = np.arange(10000)\n",
    "plt.plot(times_iter,train_loss_list)\n",
    "plt.title(\"Values of Loss Function over Iteration Times\")\n",
    "plt.xlabel(\"Iteration Times\")\n",
    "plt.ylabel(\"Values of Loss Functions\")"
   ],
   "metadata": {
    "collapsed": false,
    "pycharm": {
     "name": "#%%\n"
    }
   }
  },
  {
   "cell_type": "code",
   "execution_count": 96,
   "outputs": [
    {
     "name": "stderr",
     "output_type": "stream",
     "text": [
      "No handles with labels found to put in legend.\n"
     ]
    },
    {
     "data": {
      "text/plain": "<matplotlib.legend.Legend at 0x7f5d4ceee100>"
     },
     "execution_count": 96,
     "metadata": {},
     "output_type": "execute_result"
    },
    {
     "data": {
      "text/plain": "<Figure size 432x288 with 1 Axes>",
      "image/png": "[encoded data removed]"
     },
     "metadata": {
      "needs_background": "light"
     },
     "output_type": "display_data"
    }
   ],
   "source": [
    "### 训练集和测试集精度对epoch次数作图：\n",
    "num_epoch = np.arange(17)\n",
    "plt.plot(num_epoch,test_acc_list)\n",
    "plt.plot(num_epoch,train_acc_list, linestyle = \"--\")\n",
    "plt.title(\"Values of Prediction Accuracy over Number of Epoches Finished\")\n",
    "plt.xlabel(\"Number of Epoches Finished\")\n",
    "plt.ylabel(\"Values of Prediction Accuracy\")\n",
    "plt.legend()\n"
   ],
   "metadata": {
    "collapsed": false,
    "pycharm": {
     "name": "#%%\n"
    }
   }
  },
  {
   "cell_type": "code",
   "execution_count": null,
   "outputs": [],
   "source": [
    "\n"
   ],
   "metadata": {
    "collapsed": false,
    "pycharm": {
     "name": "#%%\n"
    }
   }
  }
 ],
 "metadata": {
  "kernelspec": {
   "display_name": "Python 3",
   "language": "python",
   "name": "python3"
  },
  "language_info": {
   "codemirror_mode": {
    "name": "ipython",
    "version": 2
   },
   "file_extension": ".py",
   "mimetype": "text/x-python",
   "name": "python",
   "nbconvert_exporter": "python",
   "pygments_lexer": "ipython2",
   "version": "2.7.6"
  }
 },
 "nbformat": 4,
 "nbformat_minor": 0
}